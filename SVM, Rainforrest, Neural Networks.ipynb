{
  "nbformat": 4,
  "nbformat_minor": 0,
  "metadata": {
    "colab": {
      "name": "15341003_Mainul_Hossain_Assign06.ipynb",
      "provenance": [],
      "collapsed_sections": []
    },
    "kernelspec": {
      "name": "python3",
      "display_name": "Python 3"
    }
  },
  "cells": [
    {
      "cell_type": "code",
      "metadata": {
        "colab": {
          "base_uri": "https://localhost:8080/"
        },
        "id": "DDIDuh2Lwo-o",
        "outputId": "d6a69ffb-408f-427b-9166-a8680dc572b8"
      },
      "source": [
        "from google.colab import drive\n",
        "drive.mount('/content/drive')"
      ],
      "execution_count": null,
      "outputs": [
        {
          "output_type": "stream",
          "text": [
            "Drive already mounted at /content/drive; to attempt to forcibly remount, call drive.mount(\"/content/drive\", force_remount=True).\n"
          ],
          "name": "stdout"
        }
      ]
    },
    {
      "cell_type": "code",
      "metadata": {
        "id": "ih0TpVypo0Rz"
      },
      "source": [
        "#importing all necessary libraries \n",
        "import pandas as pd #Tabular Data Management \n",
        "import numpy as np #Mathematical Calculations\n",
        "import sympy as sp #Complex Calculations\n",
        "import seaborn as sns #Plotting using mapping\n",
        "import matplotlib.pyplot as plt \n",
        "from mpl_toolkits import mplot3d\n",
        "from sklearn.metrics import classification_report\n",
        "from sklearn.metrics import accuracy_score"
      ],
      "execution_count": null,
      "outputs": []
    },
    {
      "cell_type": "code",
      "metadata": {
        "colab": {
          "base_uri": "https://localhost:8080/",
          "height": 419
        },
        "id": "9vOTToXBpOeQ",
        "outputId": "1ff51d27-f7d2-4476-9dd6-8fb6a142b465"
      },
      "source": [
        "#reading and initializing dataset\n",
        "dt = pd.read_csv('/content/drive/MyDrive/Brac stuff /Fall 2020/CSE422/Labs/heart_failur_classification_dataset.csv')\n",
        "dt\n"
      ],
      "execution_count": null,
      "outputs": [
        {
          "output_type": "execute_result",
          "data": {
            "text/html": [
              "<div>\n",
              "<style scoped>\n",
              "    .dataframe tbody tr th:only-of-type {\n",
              "        vertical-align: middle;\n",
              "    }\n",
              "\n",
              "    .dataframe tbody tr th {\n",
              "        vertical-align: top;\n",
              "    }\n",
              "\n",
              "    .dataframe thead th {\n",
              "        text-align: right;\n",
              "    }\n",
              "</style>\n",
              "<table border=\"1\" class=\"dataframe\">\n",
              "  <thead>\n",
              "    <tr style=\"text-align: right;\">\n",
              "      <th></th>\n",
              "      <th>Unnamed: 0</th>\n",
              "      <th>age</th>\n",
              "      <th>anaemia</th>\n",
              "      <th>creatinine_phosphokinase</th>\n",
              "      <th>diabetes</th>\n",
              "      <th>ejection_fraction</th>\n",
              "      <th>high_blood_pressure</th>\n",
              "      <th>platelets</th>\n",
              "      <th>serum_creatinine</th>\n",
              "      <th>serum_sodium</th>\n",
              "      <th>sex</th>\n",
              "      <th>smoking</th>\n",
              "      <th>time</th>\n",
              "      <th>DEATH_EVENT</th>\n",
              "    </tr>\n",
              "  </thead>\n",
              "  <tbody>\n",
              "    <tr>\n",
              "      <th>0</th>\n",
              "      <td>0</td>\n",
              "      <td>75.0</td>\n",
              "      <td>0</td>\n",
              "      <td>582</td>\n",
              "      <td>0</td>\n",
              "      <td>20</td>\n",
              "      <td>1</td>\n",
              "      <td>265000.00</td>\n",
              "      <td>1.9</td>\n",
              "      <td>NaN</td>\n",
              "      <td>Male</td>\n",
              "      <td>No</td>\n",
              "      <td>4.0</td>\n",
              "      <td>1</td>\n",
              "    </tr>\n",
              "    <tr>\n",
              "      <th>1</th>\n",
              "      <td>1</td>\n",
              "      <td>55.0</td>\n",
              "      <td>0</td>\n",
              "      <td>7861</td>\n",
              "      <td>0</td>\n",
              "      <td>38</td>\n",
              "      <td>0</td>\n",
              "      <td>263358.03</td>\n",
              "      <td>1.1</td>\n",
              "      <td>136.0</td>\n",
              "      <td>Male</td>\n",
              "      <td>No</td>\n",
              "      <td>6.0</td>\n",
              "      <td>1</td>\n",
              "    </tr>\n",
              "    <tr>\n",
              "      <th>2</th>\n",
              "      <td>2</td>\n",
              "      <td>65.0</td>\n",
              "      <td>0</td>\n",
              "      <td>146</td>\n",
              "      <td>0</td>\n",
              "      <td>20</td>\n",
              "      <td>0</td>\n",
              "      <td>162000.00</td>\n",
              "      <td>1.3</td>\n",
              "      <td>129.0</td>\n",
              "      <td>Male</td>\n",
              "      <td>Yes</td>\n",
              "      <td>7.0</td>\n",
              "      <td>1</td>\n",
              "    </tr>\n",
              "    <tr>\n",
              "      <th>3</th>\n",
              "      <td>3</td>\n",
              "      <td>50.0</td>\n",
              "      <td>1</td>\n",
              "      <td>111</td>\n",
              "      <td>0</td>\n",
              "      <td>20</td>\n",
              "      <td>0</td>\n",
              "      <td>210000.00</td>\n",
              "      <td>1.9</td>\n",
              "      <td>137.0</td>\n",
              "      <td>Male</td>\n",
              "      <td>No</td>\n",
              "      <td>7.0</td>\n",
              "      <td>1</td>\n",
              "    </tr>\n",
              "    <tr>\n",
              "      <th>4</th>\n",
              "      <td>4</td>\n",
              "      <td>65.0</td>\n",
              "      <td>1</td>\n",
              "      <td>160</td>\n",
              "      <td>1</td>\n",
              "      <td>20</td>\n",
              "      <td>0</td>\n",
              "      <td>327000.00</td>\n",
              "      <td>2.7</td>\n",
              "      <td>116.0</td>\n",
              "      <td>Female</td>\n",
              "      <td>No</td>\n",
              "      <td>8.0</td>\n",
              "      <td>1</td>\n",
              "    </tr>\n",
              "    <tr>\n",
              "      <th>...</th>\n",
              "      <td>...</td>\n",
              "      <td>...</td>\n",
              "      <td>...</td>\n",
              "      <td>...</td>\n",
              "      <td>...</td>\n",
              "      <td>...</td>\n",
              "      <td>...</td>\n",
              "      <td>...</td>\n",
              "      <td>...</td>\n",
              "      <td>...</td>\n",
              "      <td>...</td>\n",
              "      <td>...</td>\n",
              "      <td>...</td>\n",
              "      <td>...</td>\n",
              "    </tr>\n",
              "    <tr>\n",
              "      <th>294</th>\n",
              "      <td>294</td>\n",
              "      <td>62.0</td>\n",
              "      <td>0</td>\n",
              "      <td>61</td>\n",
              "      <td>1</td>\n",
              "      <td>38</td>\n",
              "      <td>1</td>\n",
              "      <td>155000.00</td>\n",
              "      <td>1.1</td>\n",
              "      <td>143.0</td>\n",
              "      <td>Male</td>\n",
              "      <td>Yes</td>\n",
              "      <td>270.0</td>\n",
              "      <td>0</td>\n",
              "    </tr>\n",
              "    <tr>\n",
              "      <th>295</th>\n",
              "      <td>295</td>\n",
              "      <td>55.0</td>\n",
              "      <td>0</td>\n",
              "      <td>1820</td>\n",
              "      <td>0</td>\n",
              "      <td>38</td>\n",
              "      <td>0</td>\n",
              "      <td>270000.00</td>\n",
              "      <td>1.2</td>\n",
              "      <td>NaN</td>\n",
              "      <td>Female</td>\n",
              "      <td>No</td>\n",
              "      <td>271.0</td>\n",
              "      <td>0</td>\n",
              "    </tr>\n",
              "    <tr>\n",
              "      <th>296</th>\n",
              "      <td>296</td>\n",
              "      <td>45.0</td>\n",
              "      <td>0</td>\n",
              "      <td>2060</td>\n",
              "      <td>1</td>\n",
              "      <td>60</td>\n",
              "      <td>0</td>\n",
              "      <td>742000.00</td>\n",
              "      <td>0.8</td>\n",
              "      <td>138.0</td>\n",
              "      <td>Female</td>\n",
              "      <td>No</td>\n",
              "      <td>278.0</td>\n",
              "      <td>0</td>\n",
              "    </tr>\n",
              "    <tr>\n",
              "      <th>297</th>\n",
              "      <td>297</td>\n",
              "      <td>45.0</td>\n",
              "      <td>0</td>\n",
              "      <td>2413</td>\n",
              "      <td>0</td>\n",
              "      <td>38</td>\n",
              "      <td>0</td>\n",
              "      <td>140000.00</td>\n",
              "      <td>1.4</td>\n",
              "      <td>140.0</td>\n",
              "      <td>Male</td>\n",
              "      <td>Yes</td>\n",
              "      <td>280.0</td>\n",
              "      <td>0</td>\n",
              "    </tr>\n",
              "    <tr>\n",
              "      <th>298</th>\n",
              "      <td>298</td>\n",
              "      <td>50.0</td>\n",
              "      <td>0</td>\n",
              "      <td>196</td>\n",
              "      <td>0</td>\n",
              "      <td>45</td>\n",
              "      <td>0</td>\n",
              "      <td>395000.00</td>\n",
              "      <td>1.6</td>\n",
              "      <td>136.0</td>\n",
              "      <td>Male</td>\n",
              "      <td>Yes</td>\n",
              "      <td>NaN</td>\n",
              "      <td>0</td>\n",
              "    </tr>\n",
              "  </tbody>\n",
              "</table>\n",
              "<p>299 rows × 14 columns</p>\n",
              "</div>"
            ],
            "text/plain": [
              "     Unnamed: 0   age  anaemia  ...  smoking   time  DEATH_EVENT\n",
              "0             0  75.0        0  ...       No    4.0            1\n",
              "1             1  55.0        0  ...       No    6.0            1\n",
              "2             2  65.0        0  ...      Yes    7.0            1\n",
              "3             3  50.0        1  ...       No    7.0            1\n",
              "4             4  65.0        1  ...       No    8.0            1\n",
              "..          ...   ...      ...  ...      ...    ...          ...\n",
              "294         294  62.0        0  ...      Yes  270.0            0\n",
              "295         295  55.0        0  ...       No  271.0            0\n",
              "296         296  45.0        0  ...       No  278.0            0\n",
              "297         297  45.0        0  ...      Yes  280.0            0\n",
              "298         298  50.0        0  ...      Yes    NaN            0\n",
              "\n",
              "[299 rows x 14 columns]"
            ]
          },
          "metadata": {
            "tags": []
          },
          "execution_count": 4
        }
      ]
    },
    {
      "cell_type": "code",
      "metadata": {
        "colab": {
          "base_uri": "https://localhost:8080/"
        },
        "id": "XwMv751KpSdG",
        "outputId": "8700a2c8-e8e2-4478-da06-bf587d64117e"
      },
      "source": [
        "dt.shape"
      ],
      "execution_count": null,
      "outputs": [
        {
          "output_type": "execute_result",
          "data": {
            "text/plain": [
              "(299, 14)"
            ]
          },
          "metadata": {
            "tags": []
          },
          "execution_count": 5
        }
      ]
    },
    {
      "cell_type": "code",
      "metadata": {
        "colab": {
          "base_uri": "https://localhost:8080/"
        },
        "id": "Ps8fBiU7pWH2",
        "outputId": "8ac15b31-a7d4-4b66-cade-95743591d62d"
      },
      "source": [
        "#Finding number of null values in the dataset\n",
        "dt.isnull().sum()"
      ],
      "execution_count": null,
      "outputs": [
        {
          "output_type": "execute_result",
          "data": {
            "text/plain": [
              "Unnamed: 0                  0\n",
              "age                         0\n",
              "anaemia                     0\n",
              "creatinine_phosphokinase    0\n",
              "diabetes                    0\n",
              "ejection_fraction           0\n",
              "high_blood_pressure         0\n",
              "platelets                   0\n",
              "serum_creatinine            0\n",
              "serum_sodium                6\n",
              "sex                         0\n",
              "smoking                     0\n",
              "time                        7\n",
              "DEATH_EVENT                 0\n",
              "dtype: int64"
            ]
          },
          "metadata": {
            "tags": []
          },
          "execution_count": 6
        }
      ]
    },
    {
      "cell_type": "code",
      "metadata": {
        "colab": {
          "base_uri": "https://localhost:8080/"
        },
        "id": "dAc1pes_palk",
        "outputId": "00dedf0e-c1b2-4af0-aae6-c4ca9baed497"
      },
      "source": [
        "#dropping unwanted column as it was of no use.\n",
        "dt = dt.drop(['Unnamed: 0'],axis =1)\n",
        "dt.shape"
      ],
      "execution_count": null,
      "outputs": [
        {
          "output_type": "execute_result",
          "data": {
            "text/plain": [
              "(299, 13)"
            ]
          },
          "metadata": {
            "tags": []
          },
          "execution_count": 7
        }
      ]
    },
    {
      "cell_type": "code",
      "metadata": {
        "colab": {
          "base_uri": "https://localhost:8080/"
        },
        "id": "CQ8FJ34Gpj5T",
        "outputId": "b09d4de6-d0d3-4d2c-dad0-4553335c154a"
      },
      "source": [
        "dt.isnull().sum()"
      ],
      "execution_count": null,
      "outputs": [
        {
          "output_type": "execute_result",
          "data": {
            "text/plain": [
              "age                         0\n",
              "anaemia                     0\n",
              "creatinine_phosphokinase    0\n",
              "diabetes                    0\n",
              "ejection_fraction           0\n",
              "high_blood_pressure         0\n",
              "platelets                   0\n",
              "serum_creatinine            0\n",
              "serum_sodium                6\n",
              "sex                         0\n",
              "smoking                     0\n",
              "time                        7\n",
              "DEATH_EVENT                 0\n",
              "dtype: int64"
            ]
          },
          "metadata": {
            "tags": []
          },
          "execution_count": 8
        }
      ]
    },
    {
      "cell_type": "code",
      "metadata": {
        "colab": {
          "base_uri": "https://localhost:8080/"
        },
        "id": "pWXg1PR7pmyw",
        "outputId": "00d1166a-7486-494a-ae9c-ba635c034aa9"
      },
      "source": [
        "#creating subsets \n",
        "print(\"Number of rows with null values in serum_sodium:\", dt['serum_sodium'].isnull().sum())\n",
        "print(\"Number of rows with null values in time:\", dt['time'].isnull().sum())\n",
        "data_subset = dt[dt['serum_sodium'].notnull()]\n",
        "print(\"Shape after removing null values:\", data_subset.shape)"
      ],
      "execution_count": null,
      "outputs": [
        {
          "output_type": "stream",
          "text": [
            "Number of rows with null values in serum_sodium: 6\n",
            "Number of rows with null values in time: 7\n",
            "Shape after removing null values: (293, 13)\n"
          ],
          "name": "stdout"
        }
      ]
    },
    {
      "cell_type": "code",
      "metadata": {
        "colab": {
          "base_uri": "https://localhost:8080/"
        },
        "id": "cD7I9VKXppPR",
        "outputId": "33137fc3-5932-496c-9c61-e6587504bb3d"
      },
      "source": [
        "#removing null values\n",
        "print('Shape of Dataframe before dropping:', dt.shape)\n",
        "dt = dt.dropna(axis=0, subset = ['serum_sodium'])\n",
        "print('Shape of Dataframe after dropping:', dt.shape)"
      ],
      "execution_count": null,
      "outputs": [
        {
          "output_type": "stream",
          "text": [
            "Shape of Dataframe before dropping: (299, 13)\n",
            "Shape of Dataframe after dropping: (293, 13)\n"
          ],
          "name": "stdout"
        }
      ]
    },
    {
      "cell_type": "code",
      "metadata": {
        "colab": {
          "base_uri": "https://localhost:8080/"
        },
        "id": "h4ZRI0giprt_",
        "outputId": "c2ee6cb1-f19d-48f8-d8b6-a1519de0ecc3"
      },
      "source": [
        "#creating subset\n",
        "data_subset = dt[dt['time'].notnull()]\n",
        "print(\"Shape after removing null values:\", data_subset.shape)"
      ],
      "execution_count": null,
      "outputs": [
        {
          "output_type": "stream",
          "text": [
            "Shape after removing null values: (286, 13)\n"
          ],
          "name": "stdout"
        }
      ]
    },
    {
      "cell_type": "code",
      "metadata": {
        "colab": {
          "base_uri": "https://localhost:8080/"
        },
        "id": "JXYUGcAkpuxW",
        "outputId": "8b4c0644-a311-4b3e-c88a-f099e4732d62"
      },
      "source": [
        "#removing null values\n",
        "print('Shape of Dataframe before dropping:', dt.shape)\n",
        "dt = dt.dropna(axis=0, subset = ['time'])\n",
        "print('Shape of Dataframe after dropping:', dt.shape)"
      ],
      "execution_count": null,
      "outputs": [
        {
          "output_type": "stream",
          "text": [
            "Shape of Dataframe before dropping: (293, 13)\n",
            "Shape of Dataframe after dropping: (286, 13)\n"
          ],
          "name": "stdout"
        }
      ]
    },
    {
      "cell_type": "code",
      "metadata": {
        "colab": {
          "base_uri": "https://localhost:8080/"
        },
        "id": "gWjiUr9Hpv7W",
        "outputId": "24f80a31-8c9f-4c1f-8dfa-943af4b1dd24"
      },
      "source": [
        "#checking for null values abscenece \n",
        "dt.isnull().sum()"
      ],
      "execution_count": null,
      "outputs": [
        {
          "output_type": "execute_result",
          "data": {
            "text/plain": [
              "age                         0\n",
              "anaemia                     0\n",
              "creatinine_phosphokinase    0\n",
              "diabetes                    0\n",
              "ejection_fraction           0\n",
              "high_blood_pressure         0\n",
              "platelets                   0\n",
              "serum_creatinine            0\n",
              "serum_sodium                0\n",
              "sex                         0\n",
              "smoking                     0\n",
              "time                        0\n",
              "DEATH_EVENT                 0\n",
              "dtype: int64"
            ]
          },
          "metadata": {
            "tags": []
          },
          "execution_count": 13
        }
      ]
    },
    {
      "cell_type": "code",
      "metadata": {
        "id": "8o6q4MZlpykH"
      },
      "source": [
        "#replacing/Encoding string data into numerical\n",
        "dt['sex'].replace({'Male':1, 'Female':0}, inplace=True)\n",
        "dt['smoking'].replace({'Yes':1, 'No':0}, inplace=True)\n"
      ],
      "execution_count": null,
      "outputs": []
    },
    {
      "cell_type": "code",
      "metadata": {
        "id": "DzSfMi0Jp19N"
      },
      "source": [
        "#determinging features and Lables\n",
        "X = dt[['age','anaemia','creatinine_phosphokinase','diabetes','ejection_fraction','high_blood_pressure','platelets','serum_creatinine','serum_sodium','sex','smoking','time']]\n",
        "Y = dt[['DEATH_EVENT']]"
      ],
      "execution_count": null,
      "outputs": []
    },
    {
      "cell_type": "code",
      "metadata": {
        "colab": {
          "base_uri": "https://localhost:8080/"
        },
        "id": "RUCXcQ_zp4rv",
        "outputId": "9038d7d0-ad3e-4321-b85b-18a8afc26698"
      },
      "source": [
        "from sklearn.model_selection import train_test_split #splitting dataset into Training set and Test set\n",
        "#import random\n",
        "#random.seed(42)\n",
        "X_train, X_test, Y_train, Y_test = train_test_split(X,Y,test_size=0.20,random_state=0)\n",
        "print(X_train.shape)\n",
        "print(X_test.shape)\n",
        "print(Y_train.shape)\n",
        "print(Y_test.shape)"
      ],
      "execution_count": null,
      "outputs": [
        {
          "output_type": "stream",
          "text": [
            "(228, 12)\n",
            "(58, 12)\n",
            "(228, 1)\n",
            "(58, 1)\n"
          ],
          "name": "stdout"
        }
      ]
    },
    {
      "cell_type": "code",
      "metadata": {
        "id": "g2kVDa4iqKKt"
      },
      "source": [
        "from sklearn.preprocessing import MinMaxScaler\n",
        "scaler = MinMaxScaler() #calling the MinMax scaling algorithm and storing it.\n",
        "scaler.fit(X) #scaling the x training values of the dataset\n",
        "#dt_scale=pd.DataFrame(scaler.transform(X))\n",
        "X_train_scaled = scaler.transform(X_train) #storing the scaled and transformed values of X_train in another varibale\n",
        "X_test_scaled = scaler.transform(X_test) #storing the scaled and transformed values of X_test in another varibale"
      ],
      "execution_count": null,
      "outputs": []
    },
    {
      "cell_type": "code",
      "metadata": {
        "id": "UUpdI-sXI5-e"
      },
      "source": [
        "#from sklearn.preprocessing import StandardScaler\n",
        "#scaler = StandardScaler()\n",
        "#scaler.fit(X_train)\n",
        "#X_train_scaled = scaler.transform(X_train)\n",
        "#X_test_scaled = scaler.transform(X_test)"
      ],
      "execution_count": null,
      "outputs": []
    },
    {
      "cell_type": "code",
      "metadata": {
        "colab": {
          "base_uri": "https://localhost:8080/",
          "height": 282
        },
        "id": "buMMA3Edqa1D",
        "outputId": "1a34aaf9-95a2-4de2-b456-b5789a069b1c"
      },
      "source": [
        "n=0\n",
        "plt.scatter (X[X.columns[n]],Y) # where n is the coloumn in X dataset you wish to visualise with your dataset\n",
        "                                # This is to just let you help visualise your data, its impossible to view the whole dataset together."
      ],
      "execution_count": null,
      "outputs": [
        {
          "output_type": "execute_result",
          "data": {
            "text/plain": [
              "<matplotlib.collections.PathCollection at 0x7f950a6c3690>"
            ]
          },
          "metadata": {
            "tags": []
          },
          "execution_count": 19
        },
        {
          "output_type": "display_data",
          "data": {
            "image/png": "[encoded data removed]",
            "text/plain": [
              "<Figure size 432x288 with 1 Axes>"
            ]
          },
          "metadata": {
            "tags": [],
            "needs_background": "light"
          }
        }
      ]
    },
    {
      "cell_type": "code",
      "metadata": {
        "id": "fJqRWjD9_AOL"
      },
      "source": [
        "#from pandas.plotting import scatter_matrix\n",
        "#scatter_matrix(dt[['age','anaemia','creatinine_phosphokinase','diabetes','ejection_fraction','high_blood_pressure','platelets','serum_creatinine','serum_sodium','sex','smoking','time']], c=dt['DEATH_EVENT'], figsize=(12,12), alpha=1)"
      ],
      "execution_count": null,
      "outputs": []
    },
    {
      "cell_type": "markdown",
      "metadata": {
        "id": "zHghS3_ibkdm"
      },
      "source": [
        "The next Steps are for Support Vector Machines.\n",
        "\n"
      ]
    },
    {
      "cell_type": "code",
      "metadata": {
        "colab": {
          "base_uri": "https://localhost:8080/"
        },
        "id": "aOTEk25RAO6c",
        "outputId": "165efcd7-020d-4234-b4f4-7b9941644abf"
      },
      "source": [
        "from sklearn.svm import SVC # Support Vector Machines \n",
        "svc = SVC(kernel='linear')\n",
        "svc.fit(X_train_scaled, Y_train)"
      ],
      "execution_count": null,
      "outputs": [
        {
          "output_type": "stream",
          "text": [
            "/usr/local/lib/python3.7/dist-packages/sklearn/utils/validation.py:760: DataConversionWarning: A column-vector y was passed when a 1d array was expected. Please change the shape of y to (n_samples, ), for example using ravel().\n",
            "  y = column_or_1d(y, warn=True)\n"
          ],
          "name": "stderr"
        },
        {
          "output_type": "execute_result",
          "data": {
            "text/plain": [
              "SVC(C=1.0, break_ties=False, cache_size=200, class_weight=None, coef0=0.0,\n",
              "    decision_function_shape='ovr', degree=3, gamma='scale', kernel='linear',\n",
              "    max_iter=-1, probability=False, random_state=None, shrinking=True,\n",
              "    tol=0.001, verbose=False)"
            ]
          },
          "metadata": {
            "tags": []
          },
          "execution_count": 21
        }
      ]
    },
    {
      "cell_type": "code",
      "metadata": {
        "colab": {
          "base_uri": "https://localhost:8080/"
        },
        "id": "jsTyRyO1ERli",
        "outputId": "77fe51ed-227e-4acd-9597-b2e2ba4aca3c"
      },
      "source": [
        "print(\"Training accuracy of the model is {:.2f}\".format(svc.score(X_train_scaled, Y_train)))\n",
        "print(\"Testing accuracy of the model is {:.2f}\".format(svc.score(X_test_scaled, Y_test)))\n",
        "predictions_svc = svc.predict(X_test_scaled)\n",
        "print(predictions_svc)\n",
        "score_svc = svc.score(X_test_scaled, Y_test) #made for plotting purposes later"
      ],
      "execution_count": null,
      "outputs": [
        {
          "output_type": "stream",
          "text": [
            "Training accuracy of the model is 0.87\n",
            "Testing accuracy of the model is 0.79\n",
            "[0 0 0 0 0 1 0 0 1 0 0 0 1 1 1 0 0 0 0 0 0 0 0 0 0 1 0 0 1 0 0 1 1 0 1 0 0\n",
            " 0 0 1 1 0 0 0 0 0 0 0 0 0 0 0 0 0 1 0 0 1]\n"
          ],
          "name": "stdout"
        }
      ]
    },
    {
      "cell_type": "code",
      "metadata": {
        "colab": {
          "base_uri": "https://localhost:8080/",
          "height": 469
        },
        "id": "LI3JHkxxGDbg",
        "outputId": "bf70486e-d312-4d62-97e6-cd06e6982525"
      },
      "source": [
        "from sklearn.metrics import confusion_matrix #for seeing the True/False Positives/Negatives.\n",
        "mat=confusion_matrix(predictions_svc, Y_test)\n",
        "print(mat)\n",
        "from seaborn import heatmap\n",
        "heatmap(mat , cmap=\"Pastel1_r\", xticklabels=['DEATH_EVENT(Actual Positive)', 'DEATH_EVENT(Actual Negative)'], yticklabels=['DEATH_EVENT(Predicted Positive)','DEATH_EVENT(Predicted Negative)'], annot=True)"
      ],
      "execution_count": null,
      "outputs": [
        {
          "output_type": "stream",
          "text": [
            "[[35  9]\n",
            " [ 3 11]]\n"
          ],
          "name": "stdout"
        },
        {
          "output_type": "execute_result",
          "data": {
            "text/plain": [
              "<matplotlib.axes._subplots.AxesSubplot at 0x7f9508aa06d0>"
            ]
          },
          "metadata": {
            "tags": []
          },
          "execution_count": 23
        },
        {
          "output_type": "display_data",
          "data": {
            "image/png": "[encoded data removed]",
            "text/plain": [
              "<Figure size 432x288 with 2 Axes>"
            ]
          },
          "metadata": {
            "tags": [],
            "needs_background": "light"
          }
        }
      ]
    },
    {
      "cell_type": "markdown",
      "metadata": {
        "id": "0PGzmXSGbpzz"
      },
      "source": [
        "The Next Steps are for Neural Networks"
      ]
    },
    {
      "cell_type": "code",
      "metadata": {
        "colab": {
          "base_uri": "https://localhost:8080/"
        },
        "id": "RfoNGw-hbwRh",
        "outputId": "5e65e70c-d910-4edd-9673-c3fcde0ee34b"
      },
      "source": [
        "from sklearn.neural_network import MLPClassifier # Neural Networks\n",
        "nnc = MLPClassifier(hidden_layer_sizes=(10), activation='relu', max_iter=10000)\n",
        "nnc.fit(X_train_scaled, Y_train)"
      ],
      "execution_count": null,
      "outputs": [
        {
          "output_type": "stream",
          "text": [
            "/usr/local/lib/python3.7/dist-packages/sklearn/neural_network/_multilayer_perceptron.py:934: DataConversionWarning: A column-vector y was passed when a 1d array was expected. Please change the shape of y to (n_samples, ), for example using ravel().\n",
            "  y = column_or_1d(y, warn=True)\n"
          ],
          "name": "stderr"
        },
        {
          "output_type": "execute_result",
          "data": {
            "text/plain": [
              "MLPClassifier(activation='relu', alpha=0.0001, batch_size='auto', beta_1=0.9,\n",
              "              beta_2=0.999, early_stopping=False, epsilon=1e-08,\n",
              "              hidden_layer_sizes=10, learning_rate='constant',\n",
              "              learning_rate_init=0.001, max_fun=15000, max_iter=10000,\n",
              "              momentum=0.9, n_iter_no_change=10, nesterovs_momentum=True,\n",
              "              power_t=0.5, random_state=None, shuffle=True, solver='adam',\n",
              "              tol=0.0001, validation_fraction=0.1, verbose=False,\n",
              "              warm_start=False)"
            ]
          },
          "metadata": {
            "tags": []
          },
          "execution_count": 24
        }
      ]
    },
    {
      "cell_type": "code",
      "metadata": {
        "colab": {
          "base_uri": "https://localhost:8080/"
        },
        "id": "KUt_kUjZjYNi",
        "outputId": "216a5115-3818-4408-a5ce-ffacb6ce7eef"
      },
      "source": [
        "print(\"Training accuracy of the model is {:.2f}\".format(nnc.score(X_train_scaled, Y_train)))\n",
        "print(\"Testing accuracy of the model is {:.2f}\".format(nnc.score(X_test_scaled, Y_test)))\n",
        "predictions_nnc = nnc.predict(X_test_scaled)\n",
        "print(predictions_nnc)\n",
        "score_nnc = nnc.score(X_test_scaled, Y_test) #made for plotting purposes later"
      ],
      "execution_count": null,
      "outputs": [
        {
          "output_type": "stream",
          "text": [
            "Training accuracy of the model is 0.85\n",
            "Testing accuracy of the model is 0.76\n",
            "[0 0 0 0 0 1 0 0 1 0 0 0 1 1 1 0 0 0 0 0 0 0 0 0 0 1 0 0 1 0 0 1 1 0 1 0 0\n",
            " 0 0 1 0 0 0 0 0 1 0 0 0 0 0 0 0 0 1 0 0 1]\n"
          ],
          "name": "stdout"
        }
      ]
    },
    {
      "cell_type": "code",
      "metadata": {
        "colab": {
          "base_uri": "https://localhost:8080/",
          "height": 465
        },
        "id": "MXFvsmSFz__y",
        "outputId": "f3e2bed8-5004-4e0f-e334-87133f2565c0"
      },
      "source": [
        "from sklearn.metrics import confusion_matrix #for seeing the True/False Positives/Negatives.\n",
        "mat=confusion_matrix(predictions_nnc, Y_test)\n",
        "print(mat)\n",
        "from seaborn import heatmap\n",
        "heatmap(mat , cmap=\"Pastel1_r\", xticklabels=['DEATH_EVENT(Actual Positive)', 'DEATH_EVENT(Actual Negative)'], yticklabels=['DEATH_EVENT(Predicted Positive)','DEATH_EVENT(Predicted Negative)'], annot=True)"
      ],
      "execution_count": null,
      "outputs": [
        {
          "output_type": "stream",
          "text": [
            "[[34 10]\n",
            " [ 4 10]]\n"
          ],
          "name": "stdout"
        },
        {
          "output_type": "execute_result",
          "data": {
            "text/plain": [
              "<matplotlib.axes._subplots.AxesSubplot at 0x7f950bc3a650>"
            ]
          },
          "metadata": {
            "tags": []
          },
          "execution_count": 26
        },
        {
          "output_type": "display_data",
          "data": {
            "image/png": "[encoded data removed]",
            "text/plain": [
              "<Figure size 432x288 with 2 Axes>"
            ]
          },
          "metadata": {
            "tags": [],
            "needs_background": "light"
          }
        }
      ]
    },
    {
      "cell_type": "markdown",
      "metadata": {
        "id": "WUqyEDnu4Rq3"
      },
      "source": [
        "The Next Steps are for Ensemble Classifier (Random Forest)"
      ]
    },
    {
      "cell_type": "code",
      "metadata": {
        "colab": {
          "base_uri": "https://localhost:8080/"
        },
        "id": "II-Gu0Mj4gGT",
        "outputId": "f6ce3429-5f6b-4373-b8d8-4e0a17a1777a"
      },
      "source": [
        "from sklearn.ensemble import RandomForestClassifier\n",
        "rfc = RandomForestClassifier(n_estimators=10)\n",
        "rfc.fit(X_train_scaled, Y_train)"
      ],
      "execution_count": null,
      "outputs": [
        {
          "output_type": "stream",
          "text": [
            "/usr/local/lib/python3.7/dist-packages/ipykernel_launcher.py:3: DataConversionWarning: A column-vector y was passed when a 1d array was expected. Please change the shape of y to (n_samples,), for example using ravel().\n",
            "  This is separate from the ipykernel package so we can avoid doing imports until\n"
          ],
          "name": "stderr"
        },
        {
          "output_type": "execute_result",
          "data": {
            "text/plain": [
              "RandomForestClassifier(bootstrap=True, ccp_alpha=0.0, class_weight=None,\n",
              "                       criterion='gini', max_depth=None, max_features='auto',\n",
              "                       max_leaf_nodes=None, max_samples=None,\n",
              "                       min_impurity_decrease=0.0, min_impurity_split=None,\n",
              "                       min_samples_leaf=1, min_samples_split=2,\n",
              "                       min_weight_fraction_leaf=0.0, n_estimators=10,\n",
              "                       n_jobs=None, oob_score=False, random_state=None,\n",
              "                       verbose=0, warm_start=False)"
            ]
          },
          "metadata": {
            "tags": []
          },
          "execution_count": 27
        }
      ]
    },
    {
      "cell_type": "code",
      "metadata": {
        "colab": {
          "base_uri": "https://localhost:8080/"
        },
        "id": "KmuWV-fs9yFX",
        "outputId": "2875d7ac-4513-4584-9dcd-dda8e367653c"
      },
      "source": [
        "print(\"Training accuracy of the model is {:.2f}\".format(rfc.score(X_train_scaled, Y_train)))\n",
        "print(\"Testing accuracy of the model is {:.2f}\".format(rfc.score(X_test_scaled, Y_test)))\n",
        "predictions_rfc = rfc.predict(X_test_scaled)\n",
        "print(predictions_rfc)\n",
        "score_rfc = rfc.score(X_test_scaled, Y_test) #made for plotting purposes later"
      ],
      "execution_count": null,
      "outputs": [
        {
          "output_type": "stream",
          "text": [
            "Training accuracy of the model is 1.00\n",
            "Testing accuracy of the model is 0.79\n",
            "[0 1 0 0 0 0 0 0 1 1 0 0 0 0 1 0 0 0 0 0 0 0 0 0 0 0 0 0 1 0 1 1 1 0 1 0 0\n",
            " 0 0 1 0 0 0 0 0 0 0 0 0 0 1 0 0 0 0 0 0 1]\n"
          ],
          "name": "stdout"
        }
      ]
    },
    {
      "cell_type": "code",
      "metadata": {
        "colab": {
          "base_uri": "https://localhost:8080/",
          "height": 465
        },
        "id": "Mct8skFn99V2",
        "outputId": "7150ce48-c527-44f3-e442-ba6476cb02fb"
      },
      "source": [
        "from sklearn.metrics import confusion_matrix #for seeing the True/False Positives/Negatives.\n",
        "mat=confusion_matrix(predictions_rfc, Y_test)\n",
        "print(mat)\n",
        "from seaborn import heatmap\n",
        "heatmap(mat , cmap=\"Pastel1_r\", xticklabels=['DEATH_EVENT(Actual Positive)', 'DEATH_EVENT(Actual Negative)'], yticklabels=['DEATH_EVENT(Predicted Positive)','DEATH_EVENT(Predicted Negative)'], annot=True)"
      ],
      "execution_count": null,
      "outputs": [
        {
          "output_type": "stream",
          "text": [
            "[[36 10]\n",
            " [ 2 10]]\n"
          ],
          "name": "stdout"
        },
        {
          "output_type": "execute_result",
          "data": {
            "text/plain": [
              "<matplotlib.axes._subplots.AxesSubplot at 0x7f9506c864d0>"
            ]
          },
          "metadata": {
            "tags": []
          },
          "execution_count": 29
        },
        {
          "output_type": "display_data",
          "data": {
            "image/png": "[encoded data removed]",
            "text/plain": [
              "<Figure size 432x288 with 2 Axes>"
            ]
          },
          "metadata": {
            "tags": [],
            "needs_background": "light"
          }
        }
      ]
    },
    {
      "cell_type": "code",
      "metadata": {
        "id": "rpqO0xLe_u7m",
        "colab": {
          "base_uri": "https://localhost:8080/",
          "height": 295
        },
        "outputId": "0a03cc26-13ae-4c52-e717-816234240f55"
      },
      "source": [
        "accuracies = ['Support Vector Machines', 'Neural Networks', 'Random Forest']\n",
        "range = [score_svc, score_nnc, score_rfc]\n",
        "plt.bar(accuracies,range)\n",
        "plt.title('Scores of Classifiers without Dimensionality Reduction')\n",
        "plt.xlabel('Algorithms')\n",
        "plt.ylabel('Accuracy Scores')\n",
        "plt.show()"
      ],
      "execution_count": null,
      "outputs": [
        {
          "output_type": "display_data",
          "data": {
            "image/png": "[encoded data removed]",
            "text/plain": [
              "<Figure size 432x288 with 1 Axes>"
            ]
          },
          "metadata": {
            "tags": [],
            "needs_background": "light"
          }
        }
      ]
    },
    {
      "cell_type": "markdown",
      "metadata": {
        "id": "iYJq8ps1O8q1"
      },
      "source": [
        "The Next part does all the above with PCA implemented"
      ]
    },
    {
      "cell_type": "code",
      "metadata": {
        "id": "IHFs49m3QeOM"
      },
      "source": [
        "from sklearn.decomposition import PCA\n",
        "pca = PCA(n_components=6)"
      ],
      "execution_count": null,
      "outputs": []
    },
    {
      "cell_type": "code",
      "metadata": {
        "colab": {
          "base_uri": "https://localhost:8080/"
        },
        "id": "T84A4ziJ6hTH",
        "outputId": "e9f9ce84-d31a-48e6-d28a-d53c75adbecb"
      },
      "source": [
        "principal_components = pca.fit_transform(dt)\n",
        "print(principal_components)"
      ],
      "execution_count": null,
      "outputs": [
        {
          "output_type": "stream",
          "text": [
            "[[ 1.51012033e+03  7.27876858e+03 -1.16227365e+02 -2.85581427e+00\n",
            "   4.86821360e+00  2.24171902e+00]\n",
            " [-9.98499413e+04 -4.09489522e+02 -1.21013510e+02  1.44298625e+01\n",
            "  -9.14362477e+00  5.52432275e+00]\n",
            " [-5.18499521e+04 -4.57133021e+02 -1.21260375e+02  2.28703450e+01\n",
            "   3.00783970e+00 -2.20695433e+00]\n",
            " ...\n",
            " [-1.06849959e+05 -4.92891083e+02  1.42144691e+02 -2.83203759e+00\n",
            "  -3.49702378e+00 -5.98919252e+00]\n",
            " [ 4.80150548e+05  1.35127721e+03  1.43533564e+02 -1.01542857e+01\n",
            "   1.48545957e+01  2.05986797e+00]\n",
            " [-1.21849338e+05  1.86306931e+03  1.55005335e+02  4.28882885e+00\n",
            "   8.99967861e+00 -2.11996484e+00]]\n"
          ],
          "name": "stdout"
        }
      ]
    },
    {
      "cell_type": "code",
      "metadata": {
        "colab": {
          "base_uri": "https://localhost:8080/"
        },
        "id": "Mvj9KWu17HDH",
        "outputId": "8fcfeed0-2f84-43f9-f8d4-756c9aa79ff9"
      },
      "source": [
        "pca.explained_variance_ratio_"
      ],
      "execution_count": null,
      "outputs": [
        {
          "output_type": "execute_result",
          "data": {
            "text/plain": [
              "array([9.99891526e-01, 1.07787539e-04, 6.53457338e-07, 1.65009726e-08,\n",
              "       1.40583855e-08, 2.09295735e-09])"
            ]
          },
          "metadata": {
            "tags": []
          },
          "execution_count": 33
        }
      ]
    },
    {
      "cell_type": "code",
      "metadata": {
        "colab": {
          "base_uri": "https://localhost:8080/"
        },
        "id": "WBTYq3sV9LCb",
        "outputId": "3d77a3f5-6d89-4ed6-9b24-2803ef39c46b"
      },
      "source": [
        "sum(pca.explained_variance_ratio_)"
      ],
      "execution_count": null,
      "outputs": [
        {
          "output_type": "execute_result",
          "data": {
            "text/plain": [
              "0.9999999997472987"
            ]
          },
          "metadata": {
            "tags": []
          },
          "execution_count": 34
        }
      ]
    },
    {
      "cell_type": "code",
      "metadata": {
        "colab": {
          "base_uri": "https://localhost:8080/",
          "height": 419
        },
        "id": "rDqNcgGO9SVO",
        "outputId": "2d2234d0-c099-4be6-c6db-05207272ebf2"
      },
      "source": [
        "principal_dt= pd.DataFrame(data= principal_components, columns= [\"principle component 1\",\"principle component 2\", \"principle component 3\", \"principle component 4\", \"principle component 5\", \"principle component 6\"])\n",
        "principal_dt\n",
        "dt.reset_index(drop=True, inplace=True)\n",
        "main_dt= pd.concat([principal_dt, dt[[\"DEATH_EVENT\"]]], axis=1)\n",
        "main_dt"
      ],
      "execution_count": null,
      "outputs": [
        {
          "output_type": "execute_result",
          "data": {
            "text/html": [
              "<div>\n",
              "<style scoped>\n",
              "    .dataframe tbody tr th:only-of-type {\n",
              "        vertical-align: middle;\n",
              "    }\n",
              "\n",
              "    .dataframe tbody tr th {\n",
              "        vertical-align: top;\n",
              "    }\n",
              "\n",
              "    .dataframe thead th {\n",
              "        text-align: right;\n",
              "    }\n",
              "</style>\n",
              "<table border=\"1\" class=\"dataframe\">\n",
              "  <thead>\n",
              "    <tr style=\"text-align: right;\">\n",
              "      <th></th>\n",
              "      <th>principle component 1</th>\n",
              "      <th>principle component 2</th>\n",
              "      <th>principle component 3</th>\n",
              "      <th>principle component 4</th>\n",
              "      <th>principle component 5</th>\n",
              "      <th>principle component 6</th>\n",
              "      <th>DEATH_EVENT</th>\n",
              "    </tr>\n",
              "  </thead>\n",
              "  <tbody>\n",
              "    <tr>\n",
              "      <th>0</th>\n",
              "      <td>1510.120332</td>\n",
              "      <td>7278.768577</td>\n",
              "      <td>-116.227365</td>\n",
              "      <td>-2.855814</td>\n",
              "      <td>4.868214</td>\n",
              "      <td>2.241719</td>\n",
              "      <td>1</td>\n",
              "    </tr>\n",
              "    <tr>\n",
              "      <th>1</th>\n",
              "      <td>-99849.941342</td>\n",
              "      <td>-409.489522</td>\n",
              "      <td>-121.013510</td>\n",
              "      <td>14.429863</td>\n",
              "      <td>-9.143625</td>\n",
              "      <td>5.524323</td>\n",
              "      <td>1</td>\n",
              "    </tr>\n",
              "    <tr>\n",
              "      <th>2</th>\n",
              "      <td>-51849.952129</td>\n",
              "      <td>-457.133021</td>\n",
              "      <td>-121.260375</td>\n",
              "      <td>22.870345</td>\n",
              "      <td>3.007840</td>\n",
              "      <td>-2.206954</td>\n",
              "      <td>1</td>\n",
              "    </tr>\n",
              "    <tr>\n",
              "      <th>3</th>\n",
              "      <td>65150.056567</td>\n",
              "      <td>-439.013064</td>\n",
              "      <td>-122.612272</td>\n",
              "      <td>15.918326</td>\n",
              "      <td>-11.728348</td>\n",
              "      <td>18.736469</td>\n",
              "      <td>1</td>\n",
              "    </tr>\n",
              "    <tr>\n",
              "      <th>4</th>\n",
              "      <td>-57849.968875</td>\n",
              "      <td>-519.605027</td>\n",
              "      <td>-121.432645</td>\n",
              "      <td>-16.117217</td>\n",
              "      <td>-18.495271</td>\n",
              "      <td>3.768437</td>\n",
              "      <td>1</td>\n",
              "    </tr>\n",
              "    <tr>\n",
              "      <th>...</th>\n",
              "      <td>...</td>\n",
              "      <td>...</td>\n",
              "      <td>...</td>\n",
              "      <td>...</td>\n",
              "      <td>...</td>\n",
              "      <td>...</td>\n",
              "      <td>...</td>\n",
              "    </tr>\n",
              "    <tr>\n",
              "      <th>281</th>\n",
              "      <td>120150.066608</td>\n",
              "      <td>-423.743019</td>\n",
              "      <td>127.078815</td>\n",
              "      <td>4.225356</td>\n",
              "      <td>2.249870</td>\n",
              "      <td>-2.641236</td>\n",
              "      <td>0</td>\n",
              "    </tr>\n",
              "    <tr>\n",
              "      <th>282</th>\n",
              "      <td>-82849.949179</td>\n",
              "      <td>-457.221997</td>\n",
              "      <td>141.728312</td>\n",
              "      <td>-0.499770</td>\n",
              "      <td>-6.679350</td>\n",
              "      <td>0.781099</td>\n",
              "      <td>0</td>\n",
              "    </tr>\n",
              "    <tr>\n",
              "      <th>283</th>\n",
              "      <td>-106849.959364</td>\n",
              "      <td>-492.891083</td>\n",
              "      <td>142.144691</td>\n",
              "      <td>-2.832038</td>\n",
              "      <td>-3.497024</td>\n",
              "      <td>-5.989193</td>\n",
              "      <td>0</td>\n",
              "    </tr>\n",
              "    <tr>\n",
              "      <th>284</th>\n",
              "      <td>480150.547833</td>\n",
              "      <td>1351.277211</td>\n",
              "      <td>143.533564</td>\n",
              "      <td>-10.154286</td>\n",
              "      <td>14.854596</td>\n",
              "      <td>2.059868</td>\n",
              "      <td>0</td>\n",
              "    </tr>\n",
              "    <tr>\n",
              "      <th>285</th>\n",
              "      <td>-121849.338196</td>\n",
              "      <td>1863.069307</td>\n",
              "      <td>155.005335</td>\n",
              "      <td>4.288829</td>\n",
              "      <td>8.999679</td>\n",
              "      <td>-2.119965</td>\n",
              "      <td>0</td>\n",
              "    </tr>\n",
              "  </tbody>\n",
              "</table>\n",
              "<p>286 rows × 7 columns</p>\n",
              "</div>"
            ],
            "text/plain": [
              "     principle component 1  ...  DEATH_EVENT\n",
              "0              1510.120332  ...            1\n",
              "1            -99849.941342  ...            1\n",
              "2            -51849.952129  ...            1\n",
              "3             65150.056567  ...            1\n",
              "4            -57849.968875  ...            1\n",
              "..                     ...  ...          ...\n",
              "281          120150.066608  ...            0\n",
              "282          -82849.949179  ...            0\n",
              "283         -106849.959364  ...            0\n",
              "284          480150.547833  ...            0\n",
              "285         -121849.338196  ...            0\n",
              "\n",
              "[286 rows x 7 columns]"
            ]
          },
          "metadata": {
            "tags": []
          },
          "execution_count": 35
        }
      ]
    },
    {
      "cell_type": "code",
      "metadata": {
        "id": "zYCxxGmhKZG_"
      },
      "source": [
        "#determinging features and Lables\n",
        "X_pca = main_dt[[\"principle component 1\",\"principle component 2\", \"principle component 3\", \"principle component 4\", \"principle component 5\", \"principle component 6\"]]\n",
        "Y_pca = main_dt[['DEATH_EVENT']]"
      ],
      "execution_count": null,
      "outputs": []
    },
    {
      "cell_type": "code",
      "metadata": {
        "colab": {
          "base_uri": "https://localhost:8080/"
        },
        "id": "5ZKY2j38Xy69",
        "outputId": "ef08db11-138c-4f94-aa5b-80df68e81198"
      },
      "source": [
        "x_train, x_test, y_train, y_test = train_test_split(X_pca,Y_pca,test_size=0.2,random_state=0)\n",
        "print(x_train.shape)\n",
        "print(x_test.shape)\n",
        "print(y_train.shape)\n",
        "print(y_test.shape)"
      ],
      "execution_count": null,
      "outputs": [
        {
          "output_type": "stream",
          "text": [
            "(228, 6)\n",
            "(58, 6)\n",
            "(228, 1)\n",
            "(58, 1)\n"
          ],
          "name": "stdout"
        }
      ]
    },
    {
      "cell_type": "markdown",
      "metadata": {
        "id": "O78a7GY4Z0zi"
      },
      "source": [
        "The next Steps are for Support Vector Machines with PCA.\n",
        "\n"
      ]
    },
    {
      "cell_type": "code",
      "metadata": {
        "colab": {
          "base_uri": "https://localhost:8080/"
        },
        "id": "rug4_U5RY2JL",
        "outputId": "3c5d3f98-817e-4a84-a8bf-ae022b1c4fe3"
      },
      "source": [
        "from sklearn.svm import SVC # Support Vector Machines \n",
        "svc_pca = SVC(kernel = 'rbf')\n",
        "svc_pca.fit(x_train, y_train)"
      ],
      "execution_count": null,
      "outputs": [
        {
          "output_type": "stream",
          "text": [
            "/usr/local/lib/python3.7/dist-packages/sklearn/utils/validation.py:760: DataConversionWarning: A column-vector y was passed when a 1d array was expected. Please change the shape of y to (n_samples, ), for example using ravel().\n",
            "  y = column_or_1d(y, warn=True)\n"
          ],
          "name": "stderr"
        },
        {
          "output_type": "execute_result",
          "data": {
            "text/plain": [
              "SVC(C=1.0, break_ties=False, cache_size=200, class_weight=None, coef0=0.0,\n",
              "    decision_function_shape='ovr', degree=3, gamma='scale', kernel='rbf',\n",
              "    max_iter=-1, probability=False, random_state=None, shrinking=True,\n",
              "    tol=0.001, verbose=False)"
            ]
          },
          "metadata": {
            "tags": []
          },
          "execution_count": 38
        }
      ]
    },
    {
      "cell_type": "code",
      "metadata": {
        "colab": {
          "base_uri": "https://localhost:8080/"
        },
        "id": "8_AIhFRPZEV8",
        "outputId": "de9d3029-b297-45e1-fb38-657ca0d1440f"
      },
      "source": [
        "print(\"Training accuracy of the model is {:.2f}\".format(svc_pca.score(x_train, y_train)))\n",
        "print(\"Testing accuracy of the model is {:.2f}\".format(svc_pca.score(x_test, y_test)))\n",
        "predictions_svc_pca = svc_pca.predict(x_test)\n",
        "print(predictions_svc_pca)\n",
        "score_svc_pca = svc_pca.score(x_test, y_test) #made for plotting purposes later"
      ],
      "execution_count": null,
      "outputs": [
        {
          "output_type": "stream",
          "text": [
            "Training accuracy of the model is 0.70\n",
            "Testing accuracy of the model is 0.62\n",
            "[0 0 0 0 0 0 0 0 0 0 1 0 0 0 0 0 0 0 0 0 0 0 0 0 0 0 0 0 0 0 0 0 0 0 0 0 0\n",
            " 0 0 0 0 0 0 0 0 0 0 0 0 0 0 0 1 0 0 0 0 0]\n"
          ],
          "name": "stdout"
        }
      ]
    },
    {
      "cell_type": "code",
      "metadata": {
        "colab": {
          "base_uri": "https://localhost:8080/",
          "height": 469
        },
        "id": "ojJ5N-GzaHHM",
        "outputId": "2d4375ed-04d2-45ee-fa98-a3363dfbc842"
      },
      "source": [
        "from sklearn.metrics import confusion_matrix #for seeing the True/False Positives/Negatives.\n",
        "mat=confusion_matrix(predictions_svc, Y_test)\n",
        "print(mat)\n",
        "from seaborn import heatmap\n",
        "heatmap(mat , cmap=\"Pastel1_r\", xticklabels=['DEATH_EVENT(Actual Positive)', 'DEATH_EVENT(Actual Negative)'], yticklabels=['DEATH_EVENT(Predicted Positive)','DEATH_EVENT(Predicted Negative)'], annot=True)"
      ],
      "execution_count": null,
      "outputs": [
        {
          "output_type": "stream",
          "text": [
            "[[35  9]\n",
            " [ 3 11]]\n"
          ],
          "name": "stdout"
        },
        {
          "output_type": "execute_result",
          "data": {
            "text/plain": [
              "<matplotlib.axes._subplots.AxesSubplot at 0x7f9506b3ef90>"
            ]
          },
          "metadata": {
            "tags": []
          },
          "execution_count": 40
        },
        {
          "output_type": "display_data",
          "data": {
            "image/png": "[encoded data removed]",
            "text/plain": [
              "<Figure size 432x288 with 2 Axes>"
            ]
          },
          "metadata": {
            "tags": [],
            "needs_background": "light"
          }
        }
      ]
    },
    {
      "cell_type": "markdown",
      "metadata": {
        "id": "SYchWFGwaqCa"
      },
      "source": [
        "The next Steps are for Neural Networks with PCA.\n",
        "\n"
      ]
    },
    {
      "cell_type": "code",
      "metadata": {
        "colab": {
          "base_uri": "https://localhost:8080/"
        },
        "id": "dJbkgnv8auQ3",
        "outputId": "0de40b51-3e5a-4ea7-bbf4-d37f393ad13a"
      },
      "source": [
        "#from sklearn.neural_network import MLPClassifier # Neural Networks\n",
        "nnc_pca = MLPClassifier(hidden_layer_sizes=(10), activation='relu', max_iter=10000)\n",
        "nnc_pca.fit(x_train, y_train)"
      ],
      "execution_count": null,
      "outputs": [
        {
          "output_type": "stream",
          "text": [
            "/usr/local/lib/python3.7/dist-packages/sklearn/neural_network/_multilayer_perceptron.py:934: DataConversionWarning: A column-vector y was passed when a 1d array was expected. Please change the shape of y to (n_samples, ), for example using ravel().\n",
            "  y = column_or_1d(y, warn=True)\n"
          ],
          "name": "stderr"
        },
        {
          "output_type": "execute_result",
          "data": {
            "text/plain": [
              "MLPClassifier(activation='relu', alpha=0.0001, batch_size='auto', beta_1=0.9,\n",
              "              beta_2=0.999, early_stopping=False, epsilon=1e-08,\n",
              "              hidden_layer_sizes=10, learning_rate='constant',\n",
              "              learning_rate_init=0.001, max_fun=15000, max_iter=10000,\n",
              "              momentum=0.9, n_iter_no_change=10, nesterovs_momentum=True,\n",
              "              power_t=0.5, random_state=None, shuffle=True, solver='adam',\n",
              "              tol=0.0001, validation_fraction=0.1, verbose=False,\n",
              "              warm_start=False)"
            ]
          },
          "metadata": {
            "tags": []
          },
          "execution_count": 41
        }
      ]
    },
    {
      "cell_type": "code",
      "metadata": {
        "colab": {
          "base_uri": "https://localhost:8080/"
        },
        "id": "Fus92BoGa09u",
        "outputId": "4b7766a9-00aa-482f-dcd2-fb7f6f733514"
      },
      "source": [
        "print(\"Training accuracy of the model is {:.2f}\".format(nnc_pca.score(x_train, y_train)))\n",
        "print(\"Testing accuracy of the model is {:.2f}\".format(nnc_pca.score(x_test, y_test)))\n",
        "predictions_nnc_pca = nnc_pca.predict(x_test)\n",
        "print(predictions_nnc_pca)\n",
        "score_nnc_pca = nnc_pca.score(x_test, y_test) #made for plotting purposes later"
      ],
      "execution_count": null,
      "outputs": [
        {
          "output_type": "stream",
          "text": [
            "Training accuracy of the model is 0.74\n",
            "Testing accuracy of the model is 0.78\n",
            "[0 0 0 0 0 1 0 0 1 0 0 0 1 1 0 0 0 0 0 0 0 0 0 0 0 0 0 0 0 0 1 1 0 0 0 0 1\n",
            " 0 1 0 0 0 0 0 0 0 1 0 0 0 0 0 0 0 1 0 0 1]\n"
          ],
          "name": "stdout"
        }
      ]
    },
    {
      "cell_type": "code",
      "metadata": {
        "colab": {
          "base_uri": "https://localhost:8080/",
          "height": 465
        },
        "id": "xP0yOnGRa8yO",
        "outputId": "49c41ce3-cc78-423d-af22-16952be3a4ac"
      },
      "source": [
        "from sklearn.metrics import confusion_matrix #for seeing the True/False Positives/Negatives.\n",
        "mat=confusion_matrix(predictions_nnc_pca, y_test)\n",
        "print(mat)\n",
        "from seaborn import heatmap\n",
        "heatmap(mat , cmap=\"Pastel1_r\", xticklabels=['DEATH_EVENT(Actual Positive)', 'DEATH_EVENT(Actual Negative)'], yticklabels=['DEATH_EVENT(Predicted Positive)','DEATH_EVENT(Predicted Negative)'], annot=True)"
      ],
      "execution_count": null,
      "outputs": [
        {
          "output_type": "stream",
          "text": [
            "[[36 11]\n",
            " [ 2  9]]\n"
          ],
          "name": "stdout"
        },
        {
          "output_type": "execute_result",
          "data": {
            "text/plain": [
              "<matplotlib.axes._subplots.AxesSubplot at 0x7f9504a6de50>"
            ]
          },
          "metadata": {
            "tags": []
          },
          "execution_count": 43
        },
        {
          "output_type": "display_data",
          "data": {
            "image/png": "[encoded data removed]",
            "text/plain": [
              "<Figure size 432x288 with 2 Axes>"
            ]
          },
          "metadata": {
            "tags": [],
            "needs_background": "light"
          }
        }
      ]
    },
    {
      "cell_type": "markdown",
      "metadata": {
        "id": "4WMbgp8teQJP"
      },
      "source": [
        "The next Steps are for Ensemble Classifier (Random Forest) with PCA.\n",
        "\n"
      ]
    },
    {
      "cell_type": "code",
      "metadata": {
        "colab": {
          "base_uri": "https://localhost:8080/"
        },
        "id": "esnWAmjseaRe",
        "outputId": "074fde3f-1251-40a9-e75b-b36c8ce01660"
      },
      "source": [
        "#from sklearn.ensemble import RandomForestClassifier\n",
        "rfc_pca = RandomForestClassifier(n_estimators=10)\n",
        "rfc_pca.fit(x_train, y_train)"
      ],
      "execution_count": null,
      "outputs": [
        {
          "output_type": "stream",
          "text": [
            "/usr/local/lib/python3.7/dist-packages/ipykernel_launcher.py:3: DataConversionWarning: A column-vector y was passed when a 1d array was expected. Please change the shape of y to (n_samples,), for example using ravel().\n",
            "  This is separate from the ipykernel package so we can avoid doing imports until\n"
          ],
          "name": "stderr"
        },
        {
          "output_type": "execute_result",
          "data": {
            "text/plain": [
              "RandomForestClassifier(bootstrap=True, ccp_alpha=0.0, class_weight=None,\n",
              "                       criterion='gini', max_depth=None, max_features='auto',\n",
              "                       max_leaf_nodes=None, max_samples=None,\n",
              "                       min_impurity_decrease=0.0, min_impurity_split=None,\n",
              "                       min_samples_leaf=1, min_samples_split=2,\n",
              "                       min_weight_fraction_leaf=0.0, n_estimators=10,\n",
              "                       n_jobs=None, oob_score=False, random_state=None,\n",
              "                       verbose=0, warm_start=False)"
            ]
          },
          "metadata": {
            "tags": []
          },
          "execution_count": 44
        }
      ]
    },
    {
      "cell_type": "code",
      "metadata": {
        "colab": {
          "base_uri": "https://localhost:8080/"
        },
        "id": "wjlX7MHsec28",
        "outputId": "c16b4d6e-6058-4d0c-8cd7-9db94be09708"
      },
      "source": [
        "print(\"Training accuracy of the model is {:.2f}\".format(rfc_pca.score(x_train, y_train)))\n",
        "print(\"Testing accuracy of the model is {:.2f}\".format(rfc_pca.score(x_test, y_test)))\n",
        "predictions_rfc_pca = rfc_pca.predict(x_test)\n",
        "print(predictions_rfc_pca)\n",
        "score_rfc_pca = rfc_pca.score(x_test, y_test) #made for plotting purposes later"
      ],
      "execution_count": null,
      "outputs": [
        {
          "output_type": "stream",
          "text": [
            "Training accuracy of the model is 1.00\n",
            "Testing accuracy of the model is 0.78\n",
            "[0 0 0 0 0 1 0 0 1 1 1 0 1 0 1 0 0 0 0 0 0 0 0 0 0 0 0 0 0 0 1 1 1 0 0 0 0\n",
            " 0 1 1 0 0 0 0 0 0 0 0 0 0 0 0 1 0 0 0 0 1]\n"
          ],
          "name": "stdout"
        }
      ]
    },
    {
      "cell_type": "code",
      "metadata": {
        "colab": {
          "base_uri": "https://localhost:8080/",
          "height": 469
        },
        "id": "O09Vf6nLehB2",
        "outputId": "5facb35a-1cb7-4441-f436-6aecfad0ebcb"
      },
      "source": [
        "from sklearn.metrics import confusion_matrix #for seeing the True/False Positives/Negatives.\n",
        "mat=confusion_matrix(predictions_rfc_pca, y_test)\n",
        "print(mat)\n",
        "from seaborn import heatmap\n",
        "heatmap(mat , cmap=\"Pastel1_r\", xticklabels=['DEATH_EVENT(Actual Positive)', 'DEATH_EVENT(Actual Negative)'], yticklabels=['DEATH_EVENT(Predicted Positive)','DEATH_EVENT(Predicted Negative)'], annot=True)"
      ],
      "execution_count": null,
      "outputs": [
        {
          "output_type": "stream",
          "text": [
            "[[35 10]\n",
            " [ 3 10]]\n"
          ],
          "name": "stdout"
        },
        {
          "output_type": "execute_result",
          "data": {
            "text/plain": [
              "<matplotlib.axes._subplots.AxesSubplot at 0x7f9504a0b7d0>"
            ]
          },
          "metadata": {
            "tags": []
          },
          "execution_count": 46
        },
        {
          "output_type": "display_data",
          "data": {
            "image/png": "[encoded data removed]",
            "text/plain": [
              "<Figure size 432x288 with 2 Axes>"
            ]
          },
          "metadata": {
            "tags": [],
            "needs_background": "light"
          }
        }
      ]
    },
    {
      "cell_type": "code",
      "metadata": {
        "colab": {
          "base_uri": "https://localhost:8080/",
          "height": 295
        },
        "id": "WwnX-apbgQh0",
        "outputId": "f3238042-122a-4036-d512-17ab02f3c697"
      },
      "source": [
        "accuracies = ['Support Vector Machines', 'Neural Networks', 'Random Forest']\n",
        "range = [score_svc_pca, score_nnc_pca, score_rfc_pca]\n",
        "plt.bar(accuracies,range)\n",
        "plt.title('Scores of Classifiers with Dimensionality Reduction')\n",
        "plt.xlabel('Algorithms')\n",
        "plt.ylabel('Accuracy Scores')\n",
        "plt.show()"
      ],
      "execution_count": null,
      "outputs": [
        {
          "output_type": "display_data",
          "data": {
            "image/png": "[encoded data removed]",
            "text/plain": [
              "<Figure size 432x288 with 1 Axes>"
            ]
          },
          "metadata": {
            "tags": [],
            "needs_background": "light"
          }
        }
      ]
    },
    {
      "cell_type": "code",
      "metadata": {
        "colab": {
          "base_uri": "https://localhost:8080/",
          "height": 330
        },
        "id": "r_4PR5K6pldb",
        "outputId": "ef0a78db-e20b-4d75-f035-e3ee695b1a28"
      },
      "source": [
        "accuracies1 = ['Support\\nVector\\nMachine', 'Support\\nVector\\nMachine\\n(PCA)']\n",
        "accuracies2 = ['Neural\\nNetworks', 'Neural\\nNetworks\\n(PCA)']\n",
        "accuracies3 = ['Random\\nForest', 'Random\\nForest\\n(PCA)']\n",
        "bar1 = [score_svc, score_svc_pca]\n",
        "bar2 = [score_nnc, score_nnc_pca]\n",
        "bar3 = [score_rfc, score_rfc_pca]\n",
        "#range = [score_svc, score_svc_pca, score_nnc, score_nnc_pca, score_rfc, score_rfc_pca]\n",
        "barWidth = 0.25\n",
        "plt.bar(accuracies1, bar1, width=barWidth)\n",
        "plt.bar(accuracies2, bar2, width=barWidth)\n",
        "plt.bar(accuracies3, bar3, width=barWidth)\n",
        "plt.title('Scores of Classifiers without VS with Dimensionality Reduction')\n",
        "plt.xlabel('Algorithms')\n",
        "plt.ylabel('Accuracy Scores')\n",
        "plt.show()"
      ],
      "execution_count": null,
      "outputs": [
        {
          "output_type": "display_data",
          "data": {
            "image/png": "[encoded data removed]",
            "text/plain": [
              "<Figure size 432x288 with 1 Axes>"
            ]
          },
          "metadata": {
            "tags": [],
            "needs_background": "light"
          }
        }
      ]
    }
  ]
}